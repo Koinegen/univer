{
 "cells": [
  {
   "cell_type": "code",
   "execution_count": 1,
   "metadata": {
    "collapsed": true,
    "pycharm": {
     "is_executing": false
    }
   },
   "outputs": [
    {
     "name": "stdout",
     "text": [
      "0.5823149681091309\n"
     ],
     "output_type": "stream"
    }
   ],
   "source": [
    "import numpy as np\n",
    "from lib.BRV import random\n",
    "import matplotlib.pyplot as plt\n",
    "\n",
    "def plot_hist(a, bins=20, **kwargs):\n",
    "    left, width = 1, 1.65\n",
    "    bottom, height = 1, 1.65\n",
    "    spacing = 0.005\n",
    "    rect_histx = [left, bottom + height + spacing, width, 1]\n",
    "    ax_histx = plt.axes(rect_histx)\n",
    "    ax_histx.grid(True)\n",
    "    ax_histx.tick_params(direction='in', labelbottom=True)\n",
    "    ax_histx.hist(a, bins, stacked=True, **kwargs)\n",
    "    \n",
    "    plt.show()\n",
    "    \n",
    "count = 600\n",
    "a = random(count=count)"
   ]
  },
  {
   "cell_type": "code",
   "execution_count": 9,
   "outputs": [
    {
     "data": {
      "text/plain": "<Figure size 432x288 with 1 Axes>",
      "image/png": "[encoded data removed]"
     },
     "metadata": {
      "needs_background": "light"
     },
     "output_type": "display_data"
    },
    {
     "name": "stdout",
     "text": [
      "74.62890000000002\nДисперсия равна: 215.24609252750014\nМат. ожидание равно: 74.62890000000002\n"
     ],
     "output_type": "stream"
    }
   ],
   "source": [
    "from random import randint\n",
    "A = 50\n",
    "B = 100\n",
    "x = []\n",
    "for z in a:\n",
    "    x.append(z * (B - A) + A)\n",
    "\n",
    "plot_hist(x, bins=10)\n",
    "\n",
    "m = sum(x) / count\n",
    "\n",
    "result = 0\n",
    "for i in range(len(x)):\n",
    "    result += (x[i] - m) ** 2\n",
    "d = result / count\n",
    "print(\"Дисперсия равна: {}\".format(d))\n",
    "m = sum(x) / count\n",
    "print(\"Мат. ожидание равно: {}\".format(m))\n"
   ],
   "metadata": {
    "collapsed": false,
    "pycharm": {
     "name": "#%%\n",
     "is_executing": false
    }
   }
  },
  {
   "cell_type": "code",
   "execution_count": 3,
   "outputs": [
    {
     "data": {
      "text/plain": "<Figure size 432x288 with 1 Axes>",
      "image/png": "[encoded data removed]"
     },
     "metadata": {
      "needs_background": "light"
     },
     "output_type": "display_data"
    },
    {
     "name": "stdout",
     "text": [
      "0.010378260808562528\nДисперсия равна: 0.00010759217479827265\n"
     ],
     "output_type": "stream"
    }
   ],
   "source": [
    "from math import log\n",
    "x = []\n",
    "lambd = 100\n",
    "for z in a:\n",
    "    x.append(-(1/lambd) * log(z))\n",
    "\n",
    "plot_hist(x, bins=100)\n",
    "\n",
    "\n",
    "m = sum(x) / count\n",
    "print(m)\n",
    "\n",
    "result = 0\n",
    "for i in range(len(x)):\n",
    "    result += (x[i] - m) ** 2\n",
    "d = result / count\n",
    "print(\"Дисперсия равна: {}\".format(d))"
   ],
   "metadata": {
    "collapsed": false,
    "pycharm": {
     "name": "#%%\n",
     "is_executing": false
    }
   }
  },
  {
   "cell_type": "code",
   "execution_count": 7,
   "outputs": [
    {
     "name": "stdout",
     "text": [
      "Мат. ожидание равно: 0.10674963593627636\n"
     ],
     "output_type": "stream"
    }
   ],
   "source": [
    "m = sum(x) / count\n",
    "print(\"Мат. ожидание равно: {}\".format(m))\n"
   ],
   "metadata": {
    "collapsed": false,
    "pycharm": {
     "name": "#%%\n",
     "is_executing": false
    }
   }
  },
  {
   "cell_type": "code",
   "execution_count": 10,
   "outputs": [
    {
     "data": {
      "text/plain": "<Figure size 432x288 with 1 Axes>",
      "image/png": "[encoded data removed]"
     },
     "metadata": {
      "needs_background": "light"
     },
     "output_type": "display_data"
    }
   ],
   "source": [
    "from math import sin, cos\n",
    "from math import sqrt\n",
    "pi = 3.14\n",
    "x = []\n",
    "for num, z in enumerate(a):\n",
    "    if num + 1 < len(a):\n",
    "        sinus = sin(2 * pi * a[num+1])\n",
    "        cosinus = cos(2 * pi * a[num+1])\n",
    "        logarifm = log(z)\n",
    "        x1 = (-2 * logarifm)\n",
    "        x2 = (-2 * logarifm)\n",
    "        x.append(sinus * sqrt(x1))\n",
    "        x.append(cosinus * sqrt(x2))\n",
    "plot_hist(x, bins=50)"
   ],
   "metadata": {
    "collapsed": false,
    "pycharm": {
     "name": "#%%\n",
     "is_executing": false
    }
   }
  },
  {
   "cell_type": "code",
   "execution_count": null,
   "outputs": [],
   "source": [
    "m = sum(x) / count\n",
    "print(\"Мат. ожидание равно: {}\".format(m))"
   ],
   "metadata": {
    "collapsed": false,
    "pycharm": {
     "name": "#%%\n"
    }
   }
  },
  {
   "cell_type": "code",
   "execution_count": 11,
   "outputs": [
    {
     "name": "stdout",
     "text": [
      "Мат. ожидание равно: 0.10674963593627636\n"
     ],
     "output_type": "stream"
    }
   ],
   "source": [
    "result = 0\n",
    "for i in range(len(x)):\n",
    "    result += (x[i] - m) ** 2\n",
    "d = result / count\n",
    "print(\"Дисперсия равна: {}\".format(d))\n"
   ],
   "metadata": {
    "collapsed": false,
    "pycharm": {
     "name": "#%%\n",
     "is_executing": false
    }
   }
  },
  {
   "cell_type": "code",
   "execution_count": 12,
   "outputs": [
    {
     "name": "stdout",
     "text": [
      "Дисперсия равна: 2.073419903119152\n"
     ],
     "output_type": "stream"
    }
   ],
   "source": [
    "result = 0\n",
    "for i in range(len(x)):\n",
    "    result += (x[i] - m) ** 2\n",
    "d = result / count\n",
    "print(\"Дисперсия равна: {}\".format(d))\n"
   ],
   "metadata": {
    "collapsed": false,
    "pycharm": {
     "name": "#%%\n",
     "is_executing": false
    }
   }
  }
 ],
 "metadata": {
  "language_info": {
   "codemirror_mode": {
    "name": "ipython",
    "version": 2
   },
   "file_extension": ".py",
   "mimetype": "text/x-python",
   "name": "python",
   "nbconvert_exporter": "python",
   "pygments_lexer": "ipython2",
   "version": "2.7.6"
  },
  "kernelspec": {
   "name": "python3",
   "language": "python",
   "display_name": "Python 3"
  },
  "pycharm": {
   "stem_cell": {
    "cell_type": "raw",
    "source": [],
    "metadata": {
     "collapsed": false
    }
   }
  }
 },
 "nbformat": 4,
 "nbformat_minor": 0
}