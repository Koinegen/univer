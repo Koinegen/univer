{
 "cells": [
  {
   "cell_type": "code",
   "execution_count": 25,
   "metadata": {
    "collapsed": true,
    "pycharm": {
     "is_executing": false
    }
   },
   "outputs": [
    {
     "name": "stdout",
     "text": [
      "0.03570151329040527\n"
     ],
     "output_type": "stream"
    }
   ],
   "source": [
    "import numpy as np\n",
    "from lib.BRV import random\n",
    "import matplotlib.pyplot as plt\n",
    "\n",
    "def plot_hist(a, bins=20):\n",
    "    left, width = 1, 1.65\n",
    "    bottom, height = 1, 1.65\n",
    "    spacing = 0.005\n",
    "    rect_histx = [left, bottom + height + spacing, width, 1]\n",
    "    ax_histx = plt.axes(rect_histx)\n",
    "    ax_histx.grid(True)\n",
    "    ax_histx.tick_params(direction='in', labelbottom=False)\n",
    "    ax_histx.hist(a, bins, stacked=True)\n",
    "    \n",
    "    plt.show()\n",
    "    \n",
    "count = 600\n",
    "a = random(count=count)"
   ]
  },
  {
   "cell_type": "code",
   "execution_count": 26,
   "outputs": [
    {
     "data": {
      "text/plain": "<Figure size 432x288 with 1 Axes>",
      "image/png": "[encoded data removed]"
     },
     "metadata": {
      "needs_background": "light"
     },
     "output_type": "display_data"
    },
    {
     "name": "stdout",
     "text": [
      "850.2017597000003\nДисперсия равна: 110222.27699600105\n"
     ],
     "output_type": "stream"
    }
   ],
   "source": [
    "from random import randint\n",
    "A = randint(1, 10000)\n",
    "B = randint(1, 10000)\n",
    "x = []\n",
    "for z in a:\n",
    "    x.append(z * (B - A) + A)\n",
    "\n",
    "plot_hist(x, bins=20)\n",
    "\n",
    "\n",
    "m = sum(x) / count\n",
    "print(m)\n",
    "\n",
    "result = 0\n",
    "for i in range(len(x)):\n",
    "    result += (x[i] - m) ** 2\n",
    "d = result / count\n",
    "print(\"Дисперсия равна: {}\".format(d))\n"
   ],
   "metadata": {
    "collapsed": false,
    "pycharm": {
     "name": "#%%\n",
     "is_executing": false
    }
   }
  },
  {
   "cell_type": "code",
   "execution_count": 27,
   "outputs": [
    {
     "data": {
      "text/plain": "<Figure size 432x288 with 1 Axes>",
      "image/png": "[encoded data removed]"
     },
     "metadata": {
      "needs_background": "light"
     },
     "output_type": "display_data"
    },
    {
     "name": "stdout",
     "text": [
      "0.009902200838645514\nДисперсия равна: 8.638473700920775e-05\n"
     ],
     "output_type": "stream"
    }
   ],
   "source": [
    "from math import log\n",
    "x = []\n",
    "lambd = 100\n",
    "for z in a:\n",
    "    x.append(-(1/lambd) * log(z))\n",
    "\n",
    "plot_hist(x, bins=100)\n",
    "\n",
    "\n",
    "m = sum(x) / count\n",
    "print(m)\n",
    "\n",
    "result = 0\n",
    "for i in range(len(x)):\n",
    "    result += (x[i] - m) ** 2\n",
    "d = result / count\n",
    "print(\"Дисперсия равна: {}\".format(d))"
   ],
   "metadata": {
    "collapsed": false,
    "pycharm": {
     "name": "#%%\n",
     "is_executing": false
    }
   }
  },
  {
   "cell_type": "code",
   "execution_count": 28,
   "outputs": [
    {
     "data": {
      "text/plain": "<Figure size 432x288 with 1 Axes>",
      "image/png": "[encoded data removed]"
     },
     "metadata": {
      "needs_background": "light"
     },
     "output_type": "display_data"
    }
   ],
   "source": [
    "from math import sin, cos\n",
    "from math import sqrt\n",
    "pi = 3.14\n",
    "x = []\n",
    "for num, z in enumerate(a):\n",
    "    if num + 1 < len(a):\n",
    "        sinus = sin(2 * pi * a[num+1])\n",
    "        cosinus = cos(2 * pi * a[num+1])\n",
    "        logarifm = log(z)\n",
    "        x1 = (-2 * logarifm)\n",
    "        x2 = (-2 * logarifm)\n",
    "        x.append(sinus * sqrt(x1))\n",
    "        x.append(cosinus * sqrt(x2))\n",
    "plot_hist(x, bins=50)"
   ],
   "metadata": {
    "collapsed": false,
    "pycharm": {
     "name": "#%%\n",
     "is_executing": false
    }
   }
  },
  {
   "cell_type": "code",
   "execution_count": 29,
   "outputs": [
    {
     "name": "stdout",
     "text": [
      "0.09662199409291494\n"
     ],
     "output_type": "stream"
    }
   ],
   "source": [
    "m = sum(x) / count\n",
    "print(m)"
   ],
   "metadata": {
    "collapsed": false,
    "pycharm": {
     "name": "#%%\n",
     "is_executing": false
    }
   }
  },
  {
   "cell_type": "code",
   "execution_count": 30,
   "outputs": [
    {
     "name": "stdout",
     "text": [
      "Дисперсия равна: 1.9778291588410877\n"
     ],
     "output_type": "stream"
    }
   ],
   "source": [
    "result = 0\n",
    "for i in range(len(x)):\n",
    "    result += (x[i] - m) ** 2\n",
    "d = result / count\n",
    "print(\"Дисперсия равна: {}\".format(d))\n"
   ],
   "metadata": {
    "collapsed": false,
    "pycharm": {
     "name": "#%%\n",
     "is_executing": false
    }
   }
  }
 ],
 "metadata": {
  "language_info": {
   "codemirror_mode": {
    "name": "ipython",
    "version": 2
   },
   "file_extension": ".py",
   "mimetype": "text/x-python",
   "name": "python",
   "nbconvert_exporter": "python",
   "pygments_lexer": "ipython2",
   "version": "2.7.6"
  },
  "kernelspec": {
   "name": "python3",
   "language": "python",
   "display_name": "Python 3"
  },
  "pycharm": {
   "stem_cell": {
    "cell_type": "raw",
    "source": [],
    "metadata": {
     "collapsed": false
    }
   }
  }
 },
 "nbformat": 4,
 "nbformat_minor": 0
}